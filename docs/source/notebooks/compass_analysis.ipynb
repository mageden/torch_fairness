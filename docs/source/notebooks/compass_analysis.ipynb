{
 "cells": [
  {
   "attachments": {},
   "cell_type": "markdown",
   "metadata": {},
   "source": [
    "# Compass Analysis"
   ]
  },
  {
   "attachments": {},
   "cell_type": "markdown",
   "metadata": {},
   "source": [
    "Here is a bunch of text - I hope it looks normal! (make stuff hidden)"
   ]
  },
  {
   "cell_type": "code",
   "execution_count": 1,
   "metadata": {
    "nbsphinx": "hidden"
   },
   "outputs": [],
   "source": [
    "# Required for notebook path to be at head of project for torch_fairness imports\n",
    "import sys\n",
    "sys.path.insert(0, os.path.abspath('../../..'))\n",
    "import os\n",
    "os.chdir('../../..')"
   ]
  },
  {
   "cell_type": "code",
   "execution_count": 2,
   "metadata": {},
   "outputs": [],
   "source": [
    "import os\n",
    "\n",
    "import pandas as pd\n",
    "\n",
    "from torch_fairness.util import SensitiveGroup, infer_minority_majority, dummy_code_sensitive"
   ]
  },
  {
   "attachments": {},
   "cell_type": "markdown",
   "metadata": {},
   "source": [
    "## Prepare dataset"
   ]
  },
  {
   "cell_type": "code",
   "execution_count": 3,
   "metadata": {},
   "outputs": [],
   "source": [
    "filename = os.path.join(\"datasets\", \"compas-scores.csv\")\n",
    "sensitive_cols = ['sex', 'race', 'age_cat']\n",
    "label_col = 'two_year_recid'\n",
    "features_cols = [\"juv_fel_count\", \"juv_misd_count\", \"juv_other_count\", \"priors_count\", \"c_charge_degree\"]"
   ]
  },
  {
   "cell_type": "code",
   "execution_count": 4,
   "metadata": {},
   "outputs": [
    {
     "data": {
      "text/html": [
       "<div>\n",
       "<style scoped>\n",
       "    .dataframe tbody tr th:only-of-type {\n",
       "        vertical-align: middle;\n",
       "    }\n",
       "\n",
       "    .dataframe tbody tr th {\n",
       "        vertical-align: top;\n",
       "    }\n",
       "\n",
       "    .dataframe thead th {\n",
       "        text-align: right;\n",
       "    }\n",
       "</style>\n",
       "<table border=\"1\" class=\"dataframe\">\n",
       "  <thead>\n",
       "    <tr style=\"text-align: right;\">\n",
       "      <th></th>\n",
       "      <th>sex</th>\n",
       "      <th>race</th>\n",
       "      <th>age_cat</th>\n",
       "      <th>two_year_recid</th>\n",
       "      <th>juv_fel_count</th>\n",
       "      <th>juv_misd_count</th>\n",
       "      <th>juv_other_count</th>\n",
       "      <th>priors_count</th>\n",
       "      <th>c_charge_degree</th>\n",
       "    </tr>\n",
       "  </thead>\n",
       "  <tbody>\n",
       "    <tr>\n",
       "      <th>0</th>\n",
       "      <td>Male</td>\n",
       "      <td>Other</td>\n",
       "      <td>Greater than 45</td>\n",
       "      <td>0</td>\n",
       "      <td>0</td>\n",
       "      <td>0</td>\n",
       "      <td>0</td>\n",
       "      <td>0</td>\n",
       "      <td>F</td>\n",
       "    </tr>\n",
       "    <tr>\n",
       "      <th>1</th>\n",
       "      <td>Male</td>\n",
       "      <td>African-American</td>\n",
       "      <td>25 - 45</td>\n",
       "      <td>1</td>\n",
       "      <td>0</td>\n",
       "      <td>0</td>\n",
       "      <td>0</td>\n",
       "      <td>0</td>\n",
       "      <td>F</td>\n",
       "    </tr>\n",
       "    <tr>\n",
       "      <th>2</th>\n",
       "      <td>Male</td>\n",
       "      <td>African-American</td>\n",
       "      <td>Less than 25</td>\n",
       "      <td>1</td>\n",
       "      <td>0</td>\n",
       "      <td>0</td>\n",
       "      <td>1</td>\n",
       "      <td>4</td>\n",
       "      <td>F</td>\n",
       "    </tr>\n",
       "    <tr>\n",
       "      <th>5</th>\n",
       "      <td>Male</td>\n",
       "      <td>Other</td>\n",
       "      <td>25 - 45</td>\n",
       "      <td>0</td>\n",
       "      <td>0</td>\n",
       "      <td>0</td>\n",
       "      <td>0</td>\n",
       "      <td>0</td>\n",
       "      <td>M</td>\n",
       "    </tr>\n",
       "    <tr>\n",
       "      <th>6</th>\n",
       "      <td>Male</td>\n",
       "      <td>Caucasian</td>\n",
       "      <td>25 - 45</td>\n",
       "      <td>1</td>\n",
       "      <td>0</td>\n",
       "      <td>0</td>\n",
       "      <td>0</td>\n",
       "      <td>14</td>\n",
       "      <td>F</td>\n",
       "    </tr>\n",
       "  </tbody>\n",
       "</table>\n",
       "</div>"
      ],
      "text/plain": [
       "    sex              race          age_cat  two_year_recid  juv_fel_count  \\\n",
       "0  Male             Other  Greater than 45               0              0   \n",
       "1  Male  African-American          25 - 45               1              0   \n",
       "2  Male  African-American     Less than 25               1              0   \n",
       "5  Male             Other          25 - 45               0              0   \n",
       "6  Male         Caucasian          25 - 45               1              0   \n",
       "\n",
       "   juv_misd_count  juv_other_count  priors_count c_charge_degree  \n",
       "0               0                0             0               F  \n",
       "1               0                0             0               F  \n",
       "2               0                1             4               F  \n",
       "5               0                0             0               M  \n",
       "6               0                0            14               F  "
      ]
     },
     "execution_count": 4,
     "metadata": {},
     "output_type": "execute_result"
    }
   ],
   "source": [
    "data = pd.read_csv(filename)\n",
    "# https://github.com/propublica/compas-analysis/blob/master/Compas%20Analysis.ipynb\n",
    "data = data[(data['days_b_screening_arrest'] <= 30) \n",
    "             & (data['days_b_screening_arrest'] >= -30) \n",
    "             & (data['is_recid'] != -1) \n",
    "             & (data['c_charge_degree'] != \"O\") \n",
    "             & (data['score_text'] != \"N/A\")]\n",
    "data = data[sensitive_cols+[label_col] + features_cols]\n",
    "data.head()"
   ]
  },
  {
   "cell_type": "code",
   "execution_count": 5,
   "metadata": {},
   "outputs": [
    {
     "name": "stdout",
     "output_type": "stream",
     "text": [
      "[SensitiveGroup(majority='Male', minority=['Female'], variable_name='sex'), SensitiveGroup(majority='African-American', minority=['Caucasian', 'Hispanic', 'Other', 'Asian'], variable_name='race'), SensitiveGroup(majority='25 - 45', minority=['Less than 25', 'Greater than 45'], variable_name='age_cat')]\n"
     ]
    }
   ],
   "source": [
    "sensitive_map = infer_minority_majority(data, item_names=sensitive_cols)\n",
    "print(sensitive_map)"
   ]
  },
  {
   "cell_type": "code",
   "execution_count": 7,
   "metadata": {},
   "outputs": [
    {
     "ename": "IndexingError",
     "evalue": "Unalignable boolean Series provided as indexer (index of the boolean Series and of the indexed object do not match).",
     "output_type": "error",
     "traceback": [
      "\u001b[1;31m---------------------------------------------------------------------------\u001b[0m",
      "\u001b[1;31mInvalidIndexError\u001b[0m                         Traceback (most recent call last)",
      "File \u001b[1;32mc:\\Users\\Michael\\miniconda3\\lib\\site-packages\\pandas\\core\\series.py:1105\u001b[0m, in \u001b[0;36mSeries.__setitem__\u001b[1;34m(self, key, value)\u001b[0m\n\u001b[0;32m   1104\u001b[0m \u001b[39mtry\u001b[39;00m:\n\u001b[1;32m-> 1105\u001b[0m     \u001b[39mself\u001b[39;49m\u001b[39m.\u001b[39;49m_set_with_engine(key, value)\n\u001b[0;32m   1106\u001b[0m \u001b[39mexcept\u001b[39;00m \u001b[39mKeyError\u001b[39;00m:\n\u001b[0;32m   1107\u001b[0m     \u001b[39m# We have a scalar (or for MultiIndex or object-dtype, scalar-like)\u001b[39;00m\n\u001b[0;32m   1108\u001b[0m     \u001b[39m#  key that is not present in self.index.\u001b[39;00m\n",
      "File \u001b[1;32mc:\\Users\\Michael\\miniconda3\\lib\\site-packages\\pandas\\core\\series.py:1175\u001b[0m, in \u001b[0;36mSeries._set_with_engine\u001b[1;34m(self, key, value)\u001b[0m\n\u001b[0;32m   1174\u001b[0m \u001b[39mdef\u001b[39;00m \u001b[39m_set_with_engine\u001b[39m(\u001b[39mself\u001b[39m, key, value) \u001b[39m-\u001b[39m\u001b[39m>\u001b[39m \u001b[39mNone\u001b[39;00m:\n\u001b[1;32m-> 1175\u001b[0m     loc \u001b[39m=\u001b[39m \u001b[39mself\u001b[39;49m\u001b[39m.\u001b[39;49mindex\u001b[39m.\u001b[39;49mget_loc(key)\n\u001b[0;32m   1177\u001b[0m     \u001b[39m# this is equivalent to self._values[key] = value\u001b[39;00m\n",
      "File \u001b[1;32mc:\\Users\\Michael\\miniconda3\\lib\\site-packages\\pandas\\core\\indexes\\range.py:394\u001b[0m, in \u001b[0;36mRangeIndex.get_loc\u001b[1;34m(self, key, method, tolerance)\u001b[0m\n\u001b[0;32m    393\u001b[0m         \u001b[39mraise\u001b[39;00m \u001b[39mKeyError\u001b[39;00m(key) \u001b[39mfrom\u001b[39;00m \u001b[39merr\u001b[39;00m\n\u001b[1;32m--> 394\u001b[0m \u001b[39mself\u001b[39;49m\u001b[39m.\u001b[39;49m_check_indexing_error(key)\n\u001b[0;32m    395\u001b[0m \u001b[39mraise\u001b[39;00m \u001b[39mKeyError\u001b[39;00m(key)\n",
      "File \u001b[1;32mc:\\Users\\Michael\\miniconda3\\lib\\site-packages\\pandas\\core\\indexes\\base.py:5968\u001b[0m, in \u001b[0;36mIndex._check_indexing_error\u001b[1;34m(self, key)\u001b[0m\n\u001b[0;32m   5965\u001b[0m \u001b[39mif\u001b[39;00m \u001b[39mnot\u001b[39;00m is_scalar(key):\n\u001b[0;32m   5966\u001b[0m     \u001b[39m# if key is not a scalar, directly raise an error (the code below\u001b[39;00m\n\u001b[0;32m   5967\u001b[0m     \u001b[39m# would convert to numpy arrays and raise later any way) - GH29926\u001b[39;00m\n\u001b[1;32m-> 5968\u001b[0m     \u001b[39mraise\u001b[39;00m InvalidIndexError(key)\n",
      "\u001b[1;31mInvalidIndexError\u001b[0m: 0        True\n1        True\n2        True\n5        True\n6        True\n        ...  \n7209     True\n7210     True\n7211     True\n7212    False\n7213    False\nName: sex, Length: 6172, dtype: bool",
      "\nDuring handling of the above exception, another exception occurred:\n",
      "\u001b[1;31mIndexingError\u001b[0m                             Traceback (most recent call last)",
      "Cell \u001b[1;32mIn[7], line 1\u001b[0m\n\u001b[1;32m----> 1\u001b[0m sensitive \u001b[39m=\u001b[39m dummy_code_sensitive(data[sensitive_cols], sensitive_map\u001b[39m=\u001b[39;49msensitive_map)\n\u001b[0;32m      2\u001b[0m sensitive\u001b[39m.\u001b[39mhead()\n",
      "File \u001b[1;32mc:\\Users\\Michael\\Documents\\Code\\torch_fairness\\torch_fairness\\util.py:149\u001b[0m, in \u001b[0;36mdummy_code_sensitive\u001b[1;34m(sensitive, sensitive_map)\u001b[0m\n\u001b[0;32m    147\u001b[0m dummy_base \u001b[39m=\u001b[39m pd\u001b[39m.\u001b[39mSeries(np\u001b[39m.\u001b[39mempty((sensitive\u001b[39m.\u001b[39mshape[\u001b[39m0\u001b[39m],)))\n\u001b[0;32m    148\u001b[0m dummy_base[:] \u001b[39m=\u001b[39m np\u001b[39m.\u001b[39mnan\n\u001b[1;32m--> 149\u001b[0m dummy_base[sensitive[sensitive_group\u001b[39m.\u001b[39;49mvariable_name] \u001b[39m==\u001b[39;49m sensitive_group\u001b[39m.\u001b[39;49mmajority] \u001b[39m=\u001b[39m \u001b[39m0\u001b[39m\n\u001b[0;32m    150\u001b[0m \u001b[39mfor\u001b[39;00m minority_code \u001b[39min\u001b[39;00m sensitive_group\u001b[39m.\u001b[39mminority:\n\u001b[0;32m    151\u001b[0m     dummy \u001b[39m=\u001b[39m dummy_base\u001b[39m.\u001b[39mcopy()\n",
      "File \u001b[1;32mc:\\Users\\Michael\\miniconda3\\lib\\site-packages\\pandas\\core\\series.py:1143\u001b[0m, in \u001b[0;36mSeries.__setitem__\u001b[1;34m(self, key, value)\u001b[0m\n\u001b[0;32m   1138\u001b[0m     \u001b[39mraise\u001b[39;00m \u001b[39mKeyError\u001b[39;00m(\n\u001b[0;32m   1139\u001b[0m         \u001b[39m\"\u001b[39m\u001b[39mkey of type tuple not found and not a MultiIndex\u001b[39m\u001b[39m\"\u001b[39m\n\u001b[0;32m   1140\u001b[0m     ) \u001b[39mfrom\u001b[39;00m \u001b[39merr\u001b[39;00m\n\u001b[0;32m   1142\u001b[0m \u001b[39mif\u001b[39;00m com\u001b[39m.\u001b[39mis_bool_indexer(key):\n\u001b[1;32m-> 1143\u001b[0m     key \u001b[39m=\u001b[39m check_bool_indexer(\u001b[39mself\u001b[39;49m\u001b[39m.\u001b[39;49mindex, key)\n\u001b[0;32m   1144\u001b[0m     key \u001b[39m=\u001b[39m np\u001b[39m.\u001b[39masarray(key, dtype\u001b[39m=\u001b[39m\u001b[39mbool\u001b[39m)\n\u001b[0;32m   1146\u001b[0m     \u001b[39mif\u001b[39;00m (\n\u001b[0;32m   1147\u001b[0m         is_list_like(value)\n\u001b[0;32m   1148\u001b[0m         \u001b[39mand\u001b[39;00m \u001b[39mlen\u001b[39m(value) \u001b[39m!=\u001b[39m \u001b[39mlen\u001b[39m(\u001b[39mself\u001b[39m)\n\u001b[1;32m   (...)\u001b[0m\n\u001b[0;32m   1153\u001b[0m         \u001b[39m#  _where call below\u001b[39;00m\n\u001b[0;32m   1154\u001b[0m         \u001b[39m# GH#44265\u001b[39;00m\n",
      "File \u001b[1;32mc:\\Users\\Michael\\miniconda3\\lib\\site-packages\\pandas\\core\\indexing.py:2552\u001b[0m, in \u001b[0;36mcheck_bool_indexer\u001b[1;34m(index, key)\u001b[0m\n\u001b[0;32m   2550\u001b[0m indexer \u001b[39m=\u001b[39m result\u001b[39m.\u001b[39mindex\u001b[39m.\u001b[39mget_indexer_for(index)\n\u001b[0;32m   2551\u001b[0m \u001b[39mif\u001b[39;00m \u001b[39m-\u001b[39m\u001b[39m1\u001b[39m \u001b[39min\u001b[39;00m indexer:\n\u001b[1;32m-> 2552\u001b[0m     \u001b[39mraise\u001b[39;00m IndexingError(\n\u001b[0;32m   2553\u001b[0m         \u001b[39m\"\u001b[39m\u001b[39mUnalignable boolean Series provided as \u001b[39m\u001b[39m\"\u001b[39m\n\u001b[0;32m   2554\u001b[0m         \u001b[39m\"\u001b[39m\u001b[39mindexer (index of the boolean Series and of \u001b[39m\u001b[39m\"\u001b[39m\n\u001b[0;32m   2555\u001b[0m         \u001b[39m\"\u001b[39m\u001b[39mthe indexed object do not match).\u001b[39m\u001b[39m\"\u001b[39m\n\u001b[0;32m   2556\u001b[0m     )\n\u001b[0;32m   2558\u001b[0m result \u001b[39m=\u001b[39m result\u001b[39m.\u001b[39mtake(indexer)\n\u001b[0;32m   2560\u001b[0m \u001b[39m# fall through for boolean\u001b[39;00m\n",
      "\u001b[1;31mIndexingError\u001b[0m: Unalignable boolean Series provided as indexer (index of the boolean Series and of the indexed object do not match)."
     ]
    }
   ],
   "source": [
    "sensitive = dummy_code_sensitive(data[sensitive_cols], sensitive_map=sensitive_map)\n",
    "sensitive.head()"
   ]
  },
  {
   "cell_type": "code",
   "execution_count": null,
   "metadata": {},
   "outputs": [],
   "source": [
    "data['c_charge_degree'].unique()"
   ]
  }
 ],
 "metadata": {
  "kernelspec": {
   "display_name": "base",
   "language": "python",
   "name": "python3"
  },
  "language_info": {
   "codemirror_mode": {
    "name": "ipython",
    "version": 3
   },
   "file_extension": ".py",
   "mimetype": "text/x-python",
   "name": "python",
   "nbconvert_exporter": "python",
   "pygments_lexer": "ipython3",
   "version": "3.9.12"
  },
  "orig_nbformat": 4,
  "vscode": {
   "interpreter": {
    "hash": "3f196a898649953439d4e1489d12a148acaa256d4f91c3ce1913e9e7c137c2b7"
   }
  }
 },
 "nbformat": 4,
 "nbformat_minor": 2
}
