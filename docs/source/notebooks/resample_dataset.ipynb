{
 "cells": [
  {
   "attachments": {},
   "cell_type": "markdown",
   "metadata": {},
   "source": [
    "# Resample imbalanced dataset"
   ]
  },
  {
   "attachments": {},
   "cell_type": "markdown",
   "metadata": {},
   "source": [
    "Here is a bunch of text - I hope it looks normal! (make stuff hidden)"
   ]
  },
  {
   "attachments": {},
   "cell_type": "markdown",
   "metadata": {},
   "source": [
    "Datasets with multiple fairness attributes often display some level of class-imbalance. Often, it is helpful to address the class-imbalance prior to model training, however, balancing multiple sensitive attributes can be more challenging than the traditional problem of balancing a single class. Since the sensitive attributes are a multi-label problem, it is not straightforward how to reduce the imbalance in one label without accidentally making the imbalance worse along another. This challenges means that generall multi-label resamplers are only able to reduce the class-imbalance but not remove it entirely.\n",
    "\n",
    "This package includes multiple methods to attempt to address this dilemma. Here, we walk through on of the simpler methods (multi-label random oversampling) using some synthetic data. "
   ]
  },
  {
   "cell_type": "code",
   "execution_count": 2,
   "metadata": {
    "nbsphinx": "hidden"
   },
   "outputs": [],
   "source": [
    "# Required for notebook path to be at head of project for torch_fairness imports\n",
    "import sys\n",
    "sys.path.insert(0, os.path.abspath('../../..'))\n",
    "import os\n",
    "os.chdir('../../..')"
   ]
  },
  {
   "cell_type": "code",
   "execution_count": 40,
   "metadata": {},
   "outputs": [],
   "source": [
    "import os\n",
    "from typing import List\n",
    "\n",
    "import pandas as pd\n",
    "import numpy as np\n",
    "\n",
    "from torch_fairness.resampling import MLROS\n",
    "from torch_fairness.resampling import imbalance_ratio\n",
    "from torch_fairness.data import SensitiveMap\n",
    "from torch_fairness.data import SensitiveTransformer"
   ]
  },
  {
   "cell_type": "code",
   "execution_count": 47,
   "metadata": {},
   "outputs": [],
   "source": [
    "def print_sample_sizes(data: pd.DataFrame) -> None:\n",
    "    print(f\"Sample size: {data.shape[0]}\")\n",
    "    print(f\"Sex: {data.Sex.value_counts().to_dict()}\")\n",
    "    print(f\"Race: {data.Race.value_counts().to_dict()}\")"
   ]
  },
  {
   "cell_type": "code",
   "execution_count": 48,
   "metadata": {},
   "outputs": [],
   "source": [
    "def print_imbalance(data: pd.DataFrame) -> None:\n",
    "    sample_sizes = np.array([*data.Sex.value_counts().to_dict().values(), *data.Race.value_counts().to_dict().values()])\n",
    "    print(f\"Imbalance ratios: {imbalance_ratio(sample_sizes=sample_sizes)}\")\n",
    "    print(f\"Mean imbalance ratios: {imbalance_ratio(sample_sizes=sample_sizes).mean()}\")"
   ]
  },
  {
   "attachments": {},
   "cell_type": "markdown",
   "metadata": {},
   "source": [
    "## Data"
   ]
  },
  {
   "attachments": {},
   "cell_type": "markdown",
   "metadata": {},
   "source": [
    "This synthetic dataset involves two sensitive attributes: Race and Gender. "
   ]
  },
  {
   "cell_type": "code",
   "execution_count": 49,
   "metadata": {},
   "outputs": [
    {
     "name": "stdout",
     "output_type": "stream",
     "text": [
      "Sample size: 200\n",
      "Sex: {'male': 158, 'female': 42}\n",
      "Race: {'african-american': 97, 'caucasian': 66, 'hispanic': 27}\n"
     ]
    }
   ],
   "source": [
    "feature_cols = ['X0', 'X1', 'X2']\n",
    "sensitive_cols = ['Race', 'Sex']\n",
    "data = pd.read_csv(os.path.join('datasets', 'synthetic_imbalanced_labels.csv'))\n",
    "print_sample_sizes(data)"
   ]
  },
  {
   "attachments": {},
   "cell_type": "markdown",
   "metadata": {},
   "source": [
    "## Resampling"
   ]
  },
  {
   "attachments": {},
   "cell_type": "markdown",
   "metadata": {},
   "source": [
    "One of the simplest resampling methods is multi-label random oversampler (MLROS), which identifies the groups with the greatest class-imblanace and oversamples them until they either (a) no longer are marked as being imbalanced or (b) the maximum number of clones has been created."
   ]
  },
  {
   "cell_type": "code",
   "execution_count": 23,
   "metadata": {},
   "outputs": [],
   "source": [
    "sensitive_map = SensitiveMap.infer(data[sensitive_cols], minimum_sample_size=15)\n",
    "sensitive_transformer = SensitiveTransformer(sensitive_map=sensitive_map, minimum_sample_size=15)\n",
    "sensitive_transformer.fit(data[sensitive_cols])\n",
    "dummy_sensitive = sensitive_transformer.transform(data[sensitive_cols])"
   ]
  },
  {
   "cell_type": "code",
   "execution_count": 50,
   "metadata": {},
   "outputs": [
    {
     "name": "stdout",
     "output_type": "stream",
     "text": [
      "Sample size: 300\n",
      "Sex: {'male': 199, 'female': 101}\n",
      "Race: {'african-american': 123, 'hispanic': 91, 'caucasian': 73}\n"
     ]
    }
   ],
   "source": [
    "resampler = MLROS(max_clone_percentage=0.5, random_state=1, sample_size_chunk=1)\n",
    "new_data = resampler.balance(labels=dummy_sensitive, features=data[['X0', 'X1', 'X2']])\n",
    "new_data = pd.DataFrame(sensitive_transformer.inverse_transform(new_data['labels']), columns=['Race', 'Sex'])\n",
    "print_sample_sizes(new_data)"
   ]
  },
  {
   "attachments": {},
   "cell_type": "markdown",
   "metadata": {},
   "source": [
    "While the sample sizes look a bit better after the resampling, it can something be challenging to tell by eye. A commonly used measure in the multi-label imbalance literature is the imbalance ratio, where the smallest value is 1. and larger indicates more imbalance. It can be useful for understanding and comparing the impact of different resampling methods.   "
   ]
  },
  {
   "cell_type": "code",
   "execution_count": 54,
   "metadata": {},
   "outputs": [
    {
     "name": "stdout",
     "output_type": "stream",
     "text": [
      "Original data\n",
      "Imbalance ratios: [1.         3.76190476 1.62886598 2.39393939 5.85185185]\n",
      "Mean imbalance ratios: 2.9273123974154904\n",
      "\n",
      "Resampled data\n",
      "Imbalance ratios: [1.         1.97029703 1.61788618 2.18681319 2.7260274 ]\n",
      "Mean imbalance ratios: 1.9002047585276436\n"
     ]
    }
   ],
   "source": [
    "print('Original data')\n",
    "print_imbalance(data)\n",
    "print('\\nResampled data')\n",
    "print_imbalance(new_data)"
   ]
  },
  {
   "attachments": {},
   "cell_type": "markdown",
   "metadata": {},
   "source": [
    "After looking at the resampling ratios, we see a substantial improvement in the two smallest groups. This is the expected behavior, as MLROS oversamples groups that fall above a certain threshold in their imbalance ratios. "
   ]
  }
 ],
 "metadata": {
  "kernelspec": {
   "display_name": "base",
   "language": "python",
   "name": "python3"
  },
  "language_info": {
   "codemirror_mode": {
    "name": "ipython",
    "version": 3
   },
   "file_extension": ".py",
   "mimetype": "text/x-python",
   "name": "python",
   "nbconvert_exporter": "python",
   "pygments_lexer": "ipython3",
   "version": "3.9.12"
  },
  "orig_nbformat": 4,
  "vscode": {
   "interpreter": {
    "hash": "3f196a898649953439d4e1489d12a148acaa256d4f91c3ce1913e9e7c137c2b7"
   }
  }
 },
 "nbformat": 4,
 "nbformat_minor": 2
}
